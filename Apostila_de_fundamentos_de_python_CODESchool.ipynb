{
  "nbformat": 4,
  "nbformat_minor": 0,
  "metadata": {
    "colab": {
      "provenance": [],
      "authorship_tag": "ABX9TyN5J6sg7FhQRjAD3Lh5k6Jt",
      "include_colab_link": true
    },
    "kernelspec": {
      "name": "python3",
      "display_name": "Python 3"
    },
    "language_info": {
      "name": "python"
    }
  },
  "cells": [
    {
      "cell_type": "markdown",
      "metadata": {
        "id": "view-in-github",
        "colab_type": "text"
      },
      "source": [
        "<a href=\"https://colab.research.google.com/github/FFelisbino/Trabalho/blob/main/Apostila_de_fundamentos_de_python_CODESchool.ipynb\" target=\"_parent\"><img src=\"https://colab.research.google.com/assets/colab-badge.svg\" alt=\"Open In Colab\"/></a>"
      ]
    },
    {
      "cell_type": "markdown",
      "source": [
        "#1- Variáveis e tipo de dados\n",
        "1.1 Variáveis de texto\n"
      ],
      "metadata": {
        "id": "mZEzLj2CzHUJ"
      }
    },
    {
      "cell_type": "code",
      "source": [
        "# hashtag na área de código para comentários curtos\n",
        "''' Aspas triplas para comentários de mais de uma linha '''"
      ],
      "metadata": {
        "id": "y3nx-fWxzhQ7"
      },
      "execution_count": null,
      "outputs": []
    },
    {
      "cell_type": "code",
      "source": [
        "# strings\n",
        "cliente = 'Saulo'\n",
        "print(cliente)\n",
        "\n",
        "#verificar qual o tipo de dado foi escolhido automaticamente\n",
        "type(cliente)"
      ],
      "metadata": {
        "colab": {
          "base_uri": "https://localhost:8080/"
        },
        "id": "dOP3o9Lq0Mqe",
        "outputId": "b6ed5d3a-34fd-4963-bd92-fde406462f2b"
      },
      "execution_count": null,
      "outputs": [
        {
          "output_type": "stream",
          "name": "stdout",
          "text": [
            "Saulo\n"
          ]
        },
        {
          "output_type": "execute_result",
          "data": {
            "text/plain": [
              "str"
            ]
          },
          "metadata": {},
          "execution_count": 4
        }
      ]
    },
    {
      "cell_type": "code",
      "source": [
        "# número inteiros\n",
        "idade = 27\n",
        "print(idade)\n",
        "type(idade)"
      ],
      "metadata": {
        "colab": {
          "base_uri": "https://localhost:8080/"
        },
        "id": "eF50Qrp53wrY",
        "outputId": "f776b983-bb4b-4588-c671-635c89e23c9f"
      },
      "execution_count": null,
      "outputs": [
        {
          "output_type": "stream",
          "name": "stdout",
          "text": [
            "27\n"
          ]
        },
        {
          "output_type": "execute_result",
          "data": {
            "text/plain": [
              "int"
            ]
          },
          "metadata": {},
          "execution_count": 5
        }
      ]
    },
    {
      "cell_type": "code",
      "source": [
        "# float = números com casas decimais\n",
        "altura = 1.75\n",
        "print(altura)\n",
        "type(altura)"
      ],
      "metadata": {
        "colab": {
          "base_uri": "https://localhost:8080/"
        },
        "id": "_UZsz-Nh4Z1w",
        "outputId": "e3fbe6a0-a22f-4915-b4f4-67b5a895c6bd"
      },
      "execution_count": null,
      "outputs": [
        {
          "output_type": "stream",
          "name": "stdout",
          "text": [
            "1.75\n"
          ]
        },
        {
          "output_type": "execute_result",
          "data": {
            "text/plain": [
              "float"
            ]
          },
          "metadata": {},
          "execution_count": 6
        }
      ]
    },
    {
      "cell_type": "code",
      "source": [
        "#Mudando o tipo de original de dado\n",
        "'''Suponha que você  tem o n° 1.85 tipado como string mas deseja convertê-lo para float'''\n",
        "n = '1.85'\n",
        "print(type(n))\n",
        "n = float(n)\n",
        "print(type(n))"
      ],
      "metadata": {
        "colab": {
          "base_uri": "https://localhost:8080/"
        },
        "id": "BJP1qgQ86YbY",
        "outputId": "d99ebbe6-77be-4b25-b65e-75e0fbaf8a77"
      },
      "execution_count": null,
      "outputs": [
        {
          "output_type": "stream",
          "name": "stdout",
          "text": [
            "<class 'str'>\n",
            "<class 'float'>\n"
          ]
        }
      ]
    },
    {
      "cell_type": "code",
      "source": [
        "'''Transformando valor int em inteiro'''\n",
        "print(type(idade))\n",
        "idade = float(idade)\n",
        "print(type(idade))"
      ],
      "metadata": {
        "colab": {
          "base_uri": "https://localhost:8080/"
        },
        "id": "N6NH4LrH73YB",
        "outputId": "92428dbb-88f1-46e5-8405-bc44652ccc11"
      },
      "execution_count": null,
      "outputs": [
        {
          "output_type": "stream",
          "name": "stdout",
          "text": [
            "<class 'int'>\n",
            "<class 'float'>\n"
          ]
        }
      ]
    },
    {
      "cell_type": "markdown",
      "source": [
        "#2 - Operadores matemáticos"
      ],
      "metadata": {
        "id": "MPDd5-xS9Gjr"
      }
    },
    {
      "cell_type": "code",
      "source": [
        "#soma\n",
        "soma = 10 + 10\n",
        "print(soma)"
      ],
      "metadata": {
        "colab": {
          "base_uri": "https://localhost:8080/"
        },
        "id": "sQkhtVvl9Ft0",
        "outputId": "01dcb9bf-5d4e-4ff2-8a9d-6e65ebd8118e"
      },
      "execution_count": null,
      "outputs": [
        {
          "output_type": "stream",
          "name": "stdout",
          "text": [
            "20\n"
          ]
        }
      ]
    },
    {
      "cell_type": "code",
      "source": [
        "#SUBTRAÇÃO\n",
        "subtracao = 10 - 5\n",
        "print(subtracao)"
      ],
      "metadata": {
        "id": "WvPhlnPl9UsT",
        "outputId": "e62438e5-b3ed-421f-a954-0e0a4ec5b84e",
        "colab": {
          "base_uri": "https://localhost:8080/"
        }
      },
      "execution_count": null,
      "outputs": [
        {
          "output_type": "stream",
          "name": "stdout",
          "text": [
            "5\n"
          ]
        }
      ]
    },
    {
      "cell_type": "code",
      "source": [
        "#Multiplicação\n",
        "multiplicacao = 10 * 10\n",
        "print(multiplicacao)"
      ],
      "metadata": {
        "colab": {
          "base_uri": "https://localhost:8080/"
        },
        "id": "lkxAUYH5vA1d",
        "outputId": "e6a8eaeb-be59-4265-8f04-024bd218fce6"
      },
      "execution_count": null,
      "outputs": [
        {
          "output_type": "stream",
          "name": "stdout",
          "text": [
            "100\n"
          ]
        }
      ]
    },
    {
      "cell_type": "code",
      "source": [
        "#Divisão\n",
        "divisao = 10 / 2\n",
        "print(divisao)"
      ],
      "metadata": {
        "id": "k7RS55rhvDKt"
      },
      "execution_count": null,
      "outputs": []
    },
    {
      "cell_type": "code",
      "source": [
        "# resto da divisão (%)\n",
        "resto_divisao = 10 % 3\n",
        "print(resto_divisao)"
      ],
      "metadata": {
        "id": "4vab3mqhvFTN"
      },
      "execution_count": null,
      "outputs": []
    },
    {
      "cell_type": "code",
      "source": [
        "# divisão por inteiro\n",
        "divisao_inteira = 10 // 3\n",
        "print(divisao_inteira)"
      ],
      "metadata": {
        "id": "GJ5GS-uOvGDN"
      },
      "execution_count": null,
      "outputs": []
    },
    {
      "cell_type": "code",
      "source": [
        "#potência\n",
        "potencia = 2 ** 3\n",
        "print(potencia)"
      ],
      "metadata": {
        "id": "cJ_mp_QEvIad"
      },
      "execution_count": null,
      "outputs": []
    },
    {
      "cell_type": "code",
      "source": [
        "#calcule a raiz quadrada de 25\n",
        "raiz = 25 ** (1/2)\n",
        "print(raiz)"
      ],
      "metadata": {
        "id": "mKAglDFMvLnl"
      },
      "execution_count": null,
      "outputs": []
    },
    {
      "cell_type": "code",
      "source": [
        "#raiz cúbica de 27\n",
        "raiz_cubica = 27 ** (1/3)\n",
        "print(raiz_cubica)"
      ],
      "metadata": {
        "id": "EhkcwcpkvNpg"
      },
      "execution_count": null,
      "outputs": []
    },
    {
      "cell_type": "markdown",
      "source": [
        "#3 - Métodos de strings"
      ],
      "metadata": {
        "id": "oPMuVWznvPT5"
      }
    },
    {
      "cell_type": "markdown",
      "source": [
        "3.1 Formatação de strings"
      ],
      "metadata": {
        "id": "sZ6PlsfOvSrZ"
      }
    },
    {
      "cell_type": "code",
      "source": [
        "'''Imagine que você deseja criar uma variável que recebe a soma de dois números\n",
        "e exibir o resultado em um texto do tipo:\n",
        "\"A soma dos números é: (resultado da soma)\" '''\n",
        "num1 = 4\n",
        "num2 = 6\n",
        "soma = num1 + num2\n",
        "print(f'A soma dos números é: {soma}')\n",
        "print(f'A soma dos números {num1} e {num2} é: {soma} ')"
      ],
      "metadata": {
        "id": "hZubd421vXW5"
      },
      "execution_count": null,
      "outputs": []
    },
    {
      "cell_type": "code",
      "source": [
        "''' Imagine que num1 e num2 sejam fornecidos pelo usuário '''\n",
        "num1 = float(input('Digite o primeiro número: '))\n",
        "num2 = float(input('Digite o segundo número: '))\n",
        "soma = num1 + num2\n",
        "print(f'A soma dos números é: {soma}')"
      ],
      "metadata": {
        "id": "JB67b81VvZew"
      },
      "execution_count": null,
      "outputs": []
    },
    {
      "cell_type": "code",
      "source": [
        "email = 'thais.pll@hotmail.com'\n",
        "print(email[6])\n",
        "print(email[0:5])\n",
        "print(email[-1])\n",
        "print(email[-2])\n",
        "print(email[0:10:2]) # intervaloinicial:intervalofinal:dedoissemdois\n",
        "print(email[:-1])\n",
        "print(email[::-1])"
      ],
      "metadata": {
        "colab": {
          "base_uri": "https://localhost:8080/"
        },
        "id": "HNrrDKbGpFnP",
        "outputId": "7911b107-8d6c-476f-eaa2-939f268c62e5"
      },
      "execution_count": null,
      "outputs": [
        {
          "output_type": "stream",
          "name": "stdout",
          "text": [
            "p\n",
            "thais\n",
            "m\n",
            "o\n",
            "taspl\n",
            "thais.pll@hotmail.co\n",
            "moc.liamtoh@llp.siaht\n"
          ]
        }
      ]
    },
    {
      "cell_type": "code",
      "source": [
        "#fatiando uma string\n",
        "'''Exiba todos os caracteres da string anterios'''\n",
        "print(email)\n",
        "print(email[:])\n",
        "print(email[0:])\n",
        "print(email[0:21])"
      ],
      "metadata": {
        "colab": {
          "base_uri": "https://localhost:8080/"
        },
        "id": "8-3_fqniqE13",
        "outputId": "60cc2d55-5ff8-4854-9e45-6e43d29d7ae5"
      },
      "execution_count": null,
      "outputs": [
        {
          "output_type": "stream",
          "name": "stdout",
          "text": [
            "thais.pll@hotmail.com\n",
            "thais.pll@hotmail.com\n",
            "thais.pll@hotmail.com\n",
            "thais.pll@hotmail.com\n"
          ]
        }
      ]
    },
    {
      "cell_type": "code",
      "source": [
        "# contar a quantidade de elementos de uma estrutura\n",
        "print(len(email))"
      ],
      "metadata": {
        "colab": {
          "base_uri": "https://localhost:8080/"
        },
        "id": "sO_mVr9zr5o6",
        "outputId": "517fef56-d3a7-4a54-a1c8-0331c4f7b3dd"
      },
      "execution_count": null,
      "outputs": [
        {
          "output_type": "stream",
          "name": "stdout",
          "text": [
            "21\n"
          ]
        }
      ]
    },
    {
      "cell_type": "code",
      "source": [
        "#Verificar a existência de um determinado caracter\n",
        "'''Verificar se a letra h está presente na variável email'''\n",
        "print('h' in email)\n",
        "# verificador not in\n",
        "print('h' not in email)"
      ],
      "metadata": {
        "colab": {
          "base_uri": "https://localhost:8080/"
        },
        "id": "6hWV1Bc-sW7M",
        "outputId": "aece2a9a-aa9b-420b-c702-740e09fac3d1"
      },
      "execution_count": null,
      "outputs": [
        {
          "output_type": "stream",
          "name": "stdout",
          "text": [
            "True\n",
            "False\n"
          ]
        }
      ]
    },
    {
      "cell_type": "markdown",
      "source": [
        "Clique duas vezes (ou pressione \"Enter\") para editar"
      ],
      "metadata": {
        "id": "qqMoRhD0vg6K"
      }
    },
    {
      "cell_type": "code",
      "source": [
        "# Método Capitalize\n",
        "nome = 'jefinho'\n",
        "print(nome)\n",
        "\n",
        "nome= nome.capitalize()\n",
        "print(nome)"
      ],
      "metadata": {
        "colab": {
          "base_uri": "https://localhost:8080/"
        },
        "id": "tTmtR3msuXF7",
        "outputId": "9981e738-eb96-4db3-a1b0-837d3fc20855"
      },
      "execution_count": null,
      "outputs": [
        {
          "output_type": "stream",
          "name": "stdout",
          "text": [
            "jefinho\n",
            "Jefinho\n"
          ]
        }
      ]
    },
    {
      "cell_type": "code",
      "source": [
        "nome_completo = 'jefinho da silva santos'\n",
        "print(nome_completo)\n",
        "nome_completo = nome_completo.capitalize()\n",
        "print(nome_completo)\n",
        "\n",
        "nome_completo = nome_completo.title()\n",
        "print(nome_completo)"
      ],
      "metadata": {
        "colab": {
          "base_uri": "https://localhost:8080/"
        },
        "id": "IkARJZer1BA3",
        "outputId": "fb7b9119-4f33-4c5a-a561-0abc5c826618"
      },
      "execution_count": null,
      "outputs": [
        {
          "output_type": "stream",
          "name": "stdout",
          "text": [
            "jefinho da silva santos\n",
            "Jefinho da silva santos\n",
            "Jefinho Da Silva Santos\n"
          ]
        }
      ]
    },
    {
      "cell_type": "code",
      "source": [
        "#todas as letras em caixa alta\n",
        "nome_completo = nome_completo.upper()\n",
        "print(nome_completo)"
      ],
      "metadata": {
        "colab": {
          "base_uri": "https://localhost:8080/"
        },
        "id": "t7XFyhJQ4Zsc",
        "outputId": "aa85760e-1c4b-4a67-ead6-0b1fbce62d37"
      },
      "execution_count": null,
      "outputs": [
        {
          "output_type": "stream",
          "name": "stdout",
          "text": [
            "JEFINHO DA SILVA SANTOS\n"
          ]
        }
      ]
    },
    {
      "cell_type": "code",
      "source": [
        "#contar quantas vezes o caractere aparece em uma string\n",
        "email.count('a')\n",
        "\n",
        "#método que mostra posição de um caractere em uma string\n",
        "email.find('@')"
      ],
      "metadata": {
        "colab": {
          "base_uri": "https://localhost:8080/"
        },
        "id": "lNxSHZ6v5anj",
        "outputId": "79f78896-f11a-49ca-e214-6d5878fde1f6"
      },
      "execution_count": null,
      "outputs": [
        {
          "output_type": "execute_result",
          "data": {
            "text/plain": [
              "9"
            ]
          },
          "metadata": {},
          "execution_count": 13
        }
      ]
    },
    {
      "cell_type": "code",
      "source": [
        "#método de verificação se a string começa com o caractere ou com a sequência especifica\n",
        "email.startswith('tha')\n",
        "\n",
        "#método de verificação se a string termina com o caractere ou com a sequência especifica\n",
        "email.endswith('com')"
      ],
      "metadata": {
        "colab": {
          "base_uri": "https://localhost:8080/"
        },
        "id": "gzk5oK3k5yLE",
        "outputId": "8dd43505-88bb-4a37-a43c-145e8a3c098a"
      },
      "execution_count": null,
      "outputs": [
        {
          "output_type": "execute_result",
          "data": {
            "text/plain": [
              "True"
            ]
          },
          "metadata": {},
          "execution_count": 14
        }
      ]
    },
    {
      "cell_type": "code",
      "source": [
        "# Método que verifica se o conteúdo da string é ou não é numérico\n",
        "cpf = '15516715697 '\n",
        "cpf.isnumeric()"
      ],
      "metadata": {
        "colab": {
          "base_uri": "https://localhost:8080/"
        },
        "id": "99WUfGCr7nQW",
        "outputId": "0a3bce6d-fe6d-467c-d3a4-9159b6ffaf24"
      },
      "execution_count": null,
      "outputs": [
        {
          "output_type": "execute_result",
          "data": {
            "text/plain": [
              "False"
            ]
          },
          "metadata": {},
          "execution_count": 15
        }
      ]
    },
    {
      "cell_type": "code",
      "source": [
        "# Método que verifica se o conteúdo da string possui apenas letras\n",
        "var = 'jefinho'\n",
        "var.isalpha() #alphabet"
      ],
      "metadata": {
        "colab": {
          "base_uri": "https://localhost:8080/"
        },
        "id": "GSYHdOKt8Jfd",
        "outputId": "72c84c78-9a6e-4aca-acf4-4107e9c910f6"
      },
      "execution_count": null,
      "outputs": [
        {
          "output_type": "execute_result",
          "data": {
            "text/plain": [
              "True"
            ]
          },
          "metadata": {},
          "execution_count": 16
        }
      ]
    },
    {
      "cell_type": "code",
      "source": [
        "# Verificar se o conteúdo é uma combinação de letras ou números\n",
        "var2 = 'Germano29'\n",
        "var2.isalnum()"
      ],
      "metadata": {
        "colab": {
          "base_uri": "https://localhost:8080/"
        },
        "id": "xhqj9MD289Sg",
        "outputId": "eca17f74-2594-4eb7-b617-edca7250d636"
      },
      "execution_count": null,
      "outputs": [
        {
          "output_type": "execute_result",
          "data": {
            "text/plain": [
              "True"
            ]
          },
          "metadata": {},
          "execution_count": 19
        }
      ]
    },
    {
      "cell_type": "code",
      "source": [
        "# remover espaços indesejados\n",
        "nome= ' Steffany '\n",
        "print(len(nome))\n",
        "nome = nome.strip()\n",
        "print(len(nome))"
      ],
      "metadata": {
        "colab": {
          "base_uri": "https://localhost:8080/"
        },
        "id": "XNCedyqm9mWN",
        "outputId": "8987fdbe-fe4f-4ec8-a028-426cf67bede3"
      },
      "execution_count": null,
      "outputs": [
        {
          "output_type": "stream",
          "name": "stdout",
          "text": [
            "10\n",
            "8\n"
          ]
        }
      ]
    },
    {
      "cell_type": "code",
      "source": [
        "nome = 'JefinhX'\n",
        "print(nome)\n",
        "nome = nome.replace('X', 'o')\n",
        "print(nome)"
      ],
      "metadata": {
        "colab": {
          "base_uri": "https://localhost:8080/"
        },
        "id": "MPNkKLrp_sYk",
        "outputId": "de88db9c-cd72-461a-ad09-320519ed31cc"
      },
      "execution_count": null,
      "outputs": [
        {
          "output_type": "stream",
          "name": "stdout",
          "text": [
            "JefinhX\n",
            "Jefinho\n"
          ]
        }
      ]
    },
    {
      "cell_type": "code",
      "source": [
        "#recortar uma string\n",
        "print(nome_completo)\n",
        "nome_completo = nome_completo.split(' ')\n",
        "print(nome_completo)"
      ],
      "metadata": {
        "colab": {
          "base_uri": "https://localhost:8080/"
        },
        "id": "C7V_JVXGAyI4",
        "outputId": "cf35eb46-f8ad-46bd-bc34-e7b077f6a2c5"
      },
      "execution_count": null,
      "outputs": [
        {
          "output_type": "stream",
          "name": "stdout",
          "text": [
            "JEFINHO DA SILVA SANTOS\n",
            "['JEFINHO', 'DA', 'SILVA', 'SANTOS']\n"
          ]
        }
      ]
    },
    {
      "cell_type": "code",
      "source": [
        "notas = input('Informe as notas separadas por espaços:')\n",
        "print(notas)\n",
        "notas = notas.split()\n",
        "print(notas)\n",
        "\n",
        "notasn = [float(notas[0]), float(notas[1]), float(notas[2])]\n",
        "print(notasn)"
      ],
      "metadata": {
        "colab": {
          "base_uri": "https://localhost:8080/"
        },
        "id": "75uHzE2UCinB",
        "outputId": "bb955f21-39ae-4e15-ed90-853b66eee874"
      },
      "execution_count": null,
      "outputs": [
        {
          "output_type": "stream",
          "name": "stdout",
          "text": [
            "Informe as notas separadas por espaços: 2 3 4 5 6\n",
            "2 3 4 5 6\n",
            "['2', '3', '4', '5', '6']\n",
            "[2.0, 3.0, 4.0]\n"
          ]
        }
      ]
    },
    {
      "cell_type": "markdown",
      "source": [
        "#4 - Estrutura de Dados"
      ],
      "metadata": {
        "id": "qXS-1j-vEDL2"
      }
    },
    {
      "cell_type": "markdown",
      "source": [
        "4.1 - Listas"
      ],
      "metadata": {
        "id": "zPCpxvVrERrR"
      }
    },
    {
      "cell_type": "code",
      "source": [
        "# lista de nomes\n",
        "nomes = ['jefinho', 'steffany', 'germano', 'de Paula', 'Fernando P', 'Fernando']\n",
        "print(nomes)\n",
        "print(type(nomes))\n",
        "print(nomes[0])"
      ],
      "metadata": {
        "colab": {
          "base_uri": "https://localhost:8080/"
        },
        "id": "3zv4BZJjEX6E",
        "outputId": "80d0e7ad-21fb-4130-9256-25d52d701501"
      },
      "execution_count": null,
      "outputs": [
        {
          "output_type": "stream",
          "name": "stdout",
          "text": [
            "['jefinho', 'steffany', 'germano', 'de Paula', 'Fernando P', 'Fernando']\n",
            "<class 'list'>\n",
            "jefinho\n"
          ]
        }
      ]
    },
    {
      "cell_type": "markdown",
      "source": [
        "4.1.1 - Inserindo valores em uma lista na última posição"
      ],
      "metadata": {
        "id": "bXVsB7V2vxmD"
      }
    },
    {
      "cell_type": "code",
      "source": [
        "clubes_primeira = ['Fluminense', 'Flamengo', 'Atlético Mineiro', 'São Paulo', 'Botafogo']\n",
        "print(clubes_primeira)\n",
        "\n",
        "clubes_primeira.append('Volta Redonda')\n",
        "print(clubes_primeira)\n",
        "\n",
        "clubes_primeira.append('Santos')\n",
        "print(clubes_primeira)"
      ],
      "metadata": {
        "colab": {
          "base_uri": "https://localhost:8080/"
        },
        "id": "fxvoYg7Vv1By",
        "outputId": "e4363828-92df-4dae-c73c-601b7bf1f5e2"
      },
      "execution_count": null,
      "outputs": [
        {
          "output_type": "stream",
          "name": "stdout",
          "text": [
            "['Fluminense', 'Flamengo', 'Atlético Mineiro', 'São Paulo', 'Botafogo']\n",
            "['Fluminense', 'Flamengo', 'Atlético Mineiro', 'São Paulo', 'Botafogo', 'Volta Redonda']\n",
            "['Fluminense', 'Flamengo', 'Atlético Mineiro', 'São Paulo', 'Botafogo', 'Volta Redonda', 'Santos']\n"
          ]
        }
      ]
    },
    {
      "cell_type": "markdown",
      "source": [
        "4.1.2 - Inserindo valores em uma lista em uma  posição especifica\n"
      ],
      "metadata": {
        "id": "JD_XWkVhsVN9"
      }
    },
    {
      "cell_type": "code",
      "source": [
        "clubes_primeira.insert(1, 'Palmeiras')\n",
        "print(clubes_primeira)"
      ],
      "metadata": {
        "colab": {
          "base_uri": "https://localhost:8080/"
        },
        "id": "_4f0RQDrsO4G",
        "outputId": "50dbf2ce-ccf0-446e-f450-07b0f7758045"
      },
      "execution_count": null,
      "outputs": [
        {
          "output_type": "stream",
          "name": "stdout",
          "text": [
            "['Fluminense', 'Palmeiras', 'Flamengo', 'Atlético Mineiro', 'São Paulo', 'Botafogo', 'Volta Redonda', 'Santos']\n"
          ]
        }
      ]
    },
    {
      "cell_type": "code",
      "source": [
        "#subtituir Palmeiras por Corinthians\n",
        "clubes_primeira[1] = 'Corinthians'\n",
        "print(clubes_primeira)"
      ],
      "metadata": {
        "colab": {
          "base_uri": "https://localhost:8080/"
        },
        "id": "I9_Ar6Sbw5l7",
        "outputId": "0fad5362-fce6-4f8f-822a-545d7f794077"
      },
      "execution_count": null,
      "outputs": [
        {
          "output_type": "stream",
          "name": "stdout",
          "text": [
            "['Fluminense', 'Corinthians', 'Flamengo', 'Atlético Mineiro', 'São Paulo', 'Botafogo', 'Volta Redonda', 'Santos']\n"
          ]
        }
      ]
    },
    {
      "cell_type": "code",
      "source": [
        "#Retirar Volta Redonda da lista\n",
        "clubes_primeira.pop(6)\n",
        "print(clubes_primeira)"
      ],
      "metadata": {
        "colab": {
          "base_uri": "https://localhost:8080/"
        },
        "id": "8MEr7kMJx4f7",
        "outputId": "07dc3f8a-a137-4610-b8ed-f02994ba9336"
      },
      "execution_count": null,
      "outputs": [
        {
          "output_type": "stream",
          "name": "stdout",
          "text": [
            "['Fluminense', 'Corinthians', 'Flamengo', 'Atlético Mineiro', 'São Paulo', 'Botafogo', 'Santos']\n"
          ]
        }
      ]
    },
    {
      "cell_type": "code",
      "source": [
        "# Eliminar São Paulo da lista\n",
        "clubes_primeira.remove('São Paulo')\n",
        "print(clubes_primeira)"
      ],
      "metadata": {
        "colab": {
          "base_uri": "https://localhost:8080/"
        },
        "id": "vUA7m2KWyolh",
        "outputId": "af52df14-90d5-4fb5-8693-5f79a16c370e"
      },
      "execution_count": null,
      "outputs": [
        {
          "output_type": "stream",
          "name": "stdout",
          "text": [
            "['Fluminense', 'Corinthians', 'Flamengo', 'Atlético Mineiro', 'Botafogo', 'Santos']\n"
          ]
        }
      ]
    },
    {
      "cell_type": "markdown",
      "source": [
        "#4.2 - Tuplas"
      ],
      "metadata": {
        "id": "ArQAqLbp2Zws"
      }
    },
    {
      "cell_type": "code",
      "source": [
        "clubes = ('Timão', 'Galo', 'Inter')\n",
        "print(type(clubes))"
      ],
      "metadata": {
        "colab": {
          "base_uri": "https://localhost:8080/"
        },
        "id": "tdqc7GPg2Svv",
        "outputId": "39461ebe-9ce4-4dbe-fc16-c5e56b5887f5"
      },
      "execution_count": null,
      "outputs": [
        {
          "output_type": "stream",
          "name": "stdout",
          "text": [
            "<class 'tuple'>\n"
          ]
        }
      ]
    },
    {
      "cell_type": "code",
      "source": [
        "print(type(clubes_primeira))\n",
        "#Tuplas x Listas: TUPLAS SÃO IMUNTAVEIS E AS LISTAS SÃO MUTÁVEIS"
      ],
      "metadata": {
        "colab": {
          "base_uri": "https://localhost:8080/"
        },
        "id": "LQj4bbce28vm",
        "outputId": "7610b3b5-d950-46d1-a21e-08cead41a258"
      },
      "execution_count": null,
      "outputs": [
        {
          "output_type": "stream",
          "name": "stdout",
          "text": [
            "<class 'list'>\n"
          ]
        }
      ]
    },
    {
      "cell_type": "code",
      "source": [
        "clubes_primeira = tuple(clubes_primeira)\n",
        "print(type(clubes_primeira))"
      ],
      "metadata": {
        "colab": {
          "base_uri": "https://localhost:8080/"
        },
        "id": "m6On75F14m4r",
        "outputId": "0911e28a-cd95-40e1-c406-427f2c775bfb"
      },
      "execution_count": null,
      "outputs": [
        {
          "output_type": "stream",
          "name": "stdout",
          "text": [
            "<class 'tuple'>\n"
          ]
        }
      ]
    },
    {
      "cell_type": "code",
      "source": [
        "clubes = list(clubes)\n",
        "print(type(clubes))"
      ],
      "metadata": {
        "colab": {
          "base_uri": "https://localhost:8080/"
        },
        "id": "ozgleKp24sxV",
        "outputId": "811a0840-6625-4058-d253-76d28043603f"
      },
      "execution_count": null,
      "outputs": [
        {
          "output_type": "stream",
          "name": "stdout",
          "text": [
            "<class 'list'>\n"
          ]
        }
      ]
    },
    {
      "cell_type": "markdown",
      "source": [
        "#5 - Estrutura de controle de Fluxo"
      ],
      "metadata": {
        "id": "jeAqaMQO5xDs"
      }
    },
    {
      "cell_type": "markdown",
      "source": [
        "5.1 - IF ELIF ELSE"
      ],
      "metadata": {
        "id": "d9yT8UkB55SE"
      }
    },
    {
      "cell_type": "code",
      "source": [
        "'''Imagine que você deseja criar um script que receba duas notas do usuario,\n",
        "calcule a média e caso a média seja maior ou igual a 6 exiba a mensagem aprovado,\n",
        "caso contrário você ainda não foi aprovado, tente novamente\n",
        "'''\n",
        "nota1 = float(input('Digite uma nota de 0 a 10:'))\n",
        "nota2 = float(input('Digite uma nota de 0 a 10:'))\n",
        "\n",
        "media = (nota1 + nota2) / 2\n",
        "if media >= 6:\n",
        "   print(f'A média foi {media:.2f} e você está aprovado!')\n",
        "else:\n",
        "  print(f'A média foi {media:.2f} e você está reprovado! Tente novamente.')"
      ],
      "metadata": {
        "colab": {
          "base_uri": "https://localhost:8080/"
        },
        "id": "iGm5Zu-R5-68",
        "outputId": "3750119b-04e6-4206-dc58-7751807a2fb6"
      },
      "execution_count": null,
      "outputs": [
        {
          "output_type": "stream",
          "name": "stdout",
          "text": [
            "Digite uma nota de 0 a 10:4\n",
            "Digite uma nota de 0 a 10:5\n",
            "A média foi 4.50 e você está reprovado! Tente novamente.\n"
          ]
        }
      ]
    },
    {
      "cell_type": "code",
      "source": [
        "'''\n",
        "Imagina agora que você tem uma situação intermediária entre aprovado e reprovado.\n",
        "Caso a nota seja menor que 6 , maior ou igual a 4, você poderá fazer a recuperação.\n",
        "Caso a nota seja menor que 4, você estará automaticamente reprovado\n",
        "'''\n",
        "nota1 = float(input('Digite uma nota de 0 a 10:'))\n",
        "nota2 = float(input('Digite uma nota de 0 a 10:'))\n",
        "\n",
        "media = (nota1 + nota2) / 2\n",
        "media = (nota1 + nota2) / 2\n",
        "if media >= 6:\n",
        "   print(f'A média foi {media:.2f} e você está aprovado!')\n",
        "elif media >= 4:\n",
        "  print(f'A média foi {media:.2f} e você está recuperação')\n",
        "else:\n",
        "  print(f'A média foi {media:.2f} e você está reprovado!')"
      ],
      "metadata": {
        "colab": {
          "base_uri": "https://localhost:8080/"
        },
        "id": "XYuL8D04EwTi",
        "outputId": "5aaa6f55-1a8b-42ba-dbca-3c2cf4399d7b"
      },
      "execution_count": null,
      "outputs": [
        {
          "output_type": "stream",
          "name": "stdout",
          "text": [
            "Digite uma nota de 0 a 10:5\n",
            "Digite uma nota de 0 a 10:4\n",
            "A média foi 4.50 e você está recuperação\n"
          ]
        }
      ]
    },
    {
      "cell_type": "markdown",
      "source": [
        "#5.2 - For"
      ],
      "metadata": {
        "id": "Mmd1OWBCHmz9"
      }
    },
    {
      "cell_type": "code",
      "source": [
        "nomes = ['Leandro', 'Wesley', 'Camila', 'Sammy', 'Lauane', 'Jefinho', 'Felisbino', 'Saulo', 'Steffany', 'Maria', 'Thais', '']\n",
        "for i in nomes:\n",
        "  print(i)"
      ],
      "metadata": {
        "colab": {
          "base_uri": "https://localhost:8080/"
        },
        "id": "ntXQpek1HqB2",
        "outputId": "e18fa275-0458-4580-9a5c-3b9f488db3b7"
      },
      "execution_count": null,
      "outputs": [
        {
          "output_type": "stream",
          "name": "stdout",
          "text": [
            "Leandro\n",
            "Wesley\n",
            "Camila\n",
            "Sammy\n",
            "Lauane\n",
            "Jefinho\n",
            "Felisbino\n",
            "Saulo\n",
            "Steffany\n",
            "Maria\n",
            "Thais\n",
            "\n"
          ]
        }
      ]
    },
    {
      "cell_type": "code",
      "source": [
        "for i in range(11):\n",
        "  print(nomes[i])"
      ],
      "metadata": {
        "colab": {
          "base_uri": "https://localhost:8080/"
        },
        "id": "pYMQAd-_IbVm",
        "outputId": "3fb423fe-5acc-44d2-dee7-095474422ebf"
      },
      "execution_count": null,
      "outputs": [
        {
          "output_type": "stream",
          "name": "stdout",
          "text": [
            "Leandro\n",
            "Wesley\n",
            "Camila\n",
            "Sammy\n",
            "Lauane\n",
            "Jefinho\n",
            "Felisbino\n",
            "Saulo\n",
            "Steffany\n",
            "Maria\n",
            "Thais\n"
          ]
        }
      ]
    },
    {
      "cell_type": "code",
      "source": [
        "pesos = [50, 45, 56, 90, 50 ,60, 70, 55, 65, 49, 55, 56]\n",
        "alturas = [1.83, 1.74, 1.66, 1,60, 1.83, 1.72, 1.82, 1.70, 1.60, 1,58, 1.65, ]\n",
        "\n",
        "#print  do nome e imc separadamente\n",
        "\n",
        "for i in range(len(nomes)):\n",
        "  print(f'{nomes[i]} tem IMC {pesos[i]/alturas[i]**2:.2f}')"
      ],
      "metadata": {
        "colab": {
          "base_uri": "https://localhost:8080/"
        },
        "id": "bztUhwAVJP5X",
        "outputId": "9bdacd9a-55c2-4468-fdcd-bc41aedfd52a"
      },
      "execution_count": null,
      "outputs": [
        {
          "output_type": "stream",
          "name": "stdout",
          "text": [
            "Leandro tem IMC 14.93\n",
            "Wesley tem IMC 14.86\n",
            "Camila tem IMC 20.32\n",
            "Sammy tem IMC 90.00\n",
            "Lauane tem IMC 0.01\n",
            "Jefinho tem IMC 17.92\n",
            "Felisbino tem IMC 23.66\n",
            "Saulo tem IMC 16.60\n",
            "Steffany tem IMC 22.49\n",
            "Maria tem IMC 19.14\n",
            "Thais tem IMC 55.00\n",
            " tem IMC 0.02\n"
          ]
        }
      ]
    },
    {
      "cell_type": "markdown",
      "source": [
        "#5.3 - While"
      ],
      "metadata": {
        "id": "Va4x7IkXNOXT"
      }
    },
    {
      "cell_type": "code",
      "source": [
        "''' Você deseja receber n notas de usuário para calculo da média e n é o número variável '''\n",
        "\n",
        "n = int(input('Informe a quantidade de avaliações para o cálculo da média:'))\n",
        "i = 0\n",
        "notas = []\n",
        "\n",
        "while i < n:\n",
        "  notas.append(float(input(f'Informe a {i + 1}ª nota:')))\n",
        "  i += 1\n",
        "\n",
        "media = sum(notas)/len(notas)\n",
        "if media >= 6:\n",
        "   print(f'A média foi {media:.2f} e você está aprovado!')\n",
        "elif media >= 4:\n",
        "  print(f'A média foi {media:.2f} e você está recuperação')\n",
        "else:\n",
        "  print(f'A média foi {media:.2f} e você está reprovado, tente novamente!')"
      ],
      "metadata": {
        "colab": {
          "base_uri": "https://localhost:8080/"
        },
        "id": "yxKZTmVUNTF7",
        "outputId": "a79788cc-badf-4122-854a-fee9583e6a6d"
      },
      "execution_count": null,
      "outputs": [
        {
          "output_type": "stream",
          "name": "stdout",
          "text": [
            "Informe a quantidade de avaliações para o cálculo da média:4\n",
            "Informe a 1ª nota:5\n",
            "Informe a 2ª nota:8\n",
            "Informe a 3ª nota:3\n",
            "Informe a 4ª nota:9\n",
            "A média foi 6.25 e você está aprovado!\n"
          ]
        }
      ]
    },
    {
      "cell_type": "code",
      "source": [
        "#tratamento de exceções\n",
        "#funções\n",
        "#switch case\n",
        "def switch_case(case):\n",
        "  match case:\n",
        "    case 1:\n",
        "      return 'Case 1 executado'\n",
        "    case 2:\n",
        "      return 'Case 2 executado'\n",
        "    case 3:\n",
        "      return 'Case 3 executado'\n",
        "    case _:\n",
        "      return 'Nenhum dos casos anteriores executado'\n",
        "\n",
        "#exemplos\n",
        "resultado = switch_case(1)\n",
        "print(resultado)\n",
        "\n",
        "resultado = switch_case(2)\n",
        "print(resultado)\n",
        "\n",
        "resultado = switch_case(3)\n",
        "print(resultado)\n",
        "\n",
        "resultado = switch_case(4)\n",
        "print(resultado)"
      ],
      "metadata": {
        "id": "hPbl6evAPp2b"
      },
      "execution_count": null,
      "outputs": []
    },
    {
      "cell_type": "code",
      "source": [
        "'''Você foi contratado para desenvolver um sistema básico de gerenciamento de\n",
        "funcionários para uma pequena empresa. O sistema deve ser capaz de receber e\n",
        "armazenar informações sobre os funcionários e realizar operações básicas de\n",
        "manipulação desses dados.'''\n",
        "#variáveis: nome, cidade, estado, idade, escolaridade, cargo, salário\n",
        "matriculas = []\n",
        "nomes = []\n",
        "cidades = []\n",
        "estados = []\n",
        "idades = []\n",
        "escolaridades = []\n",
        "cargos = []\n",
        "salarios = []\n",
        "\n",
        "def cadastrar_funcionario():\n",
        "  #solicitar as informações para o usuário\n",
        "  matricula_empregado = input('Informe a matrícula do funcionário: ')\n",
        "  nome = input('Informe o nome do funcionário: ')\n",
        "  cidade = input('Informe a cidade do funcionário: ')\n",
        "  estado = input('Informe o estado do funcionário: ')\n",
        "  idade = int(input('Qual a idade do funcionário: '))\n",
        "  escolaridade = input('Informe a escolaridade do funcionário: ')\n",
        "  cargo = input('Qual o cargo do funcionário:')\n",
        "  salario = float(input('Informe o salário do funcionário: '))\n",
        "\n",
        "  # armazenar as informações\n",
        "  matriculas.append(matricula_empregado)\n",
        "  nomes.append(nome)\n",
        "  cidades.append(cidade)\n",
        "  estados.append(estado)\n",
        "  idades.append(idade)\n",
        "  escolaridades.append(escolaridade)\n",
        "  cargos.append(cargo)\n",
        "  salarios.append(salario)\n",
        "\n",
        "  print(f'Funcionário {nome} cadastrado com sucesso!')\n",
        "\n",
        "def listar_funcionarios():\n",
        "  for i in range(len(matriculas)):\n",
        "    print(f'Matrícula: {matriculas[i]}')\n",
        "    print(f'Nome: {nomes[i]}')\n",
        "    print(f'Cidade: {cidades[i]}')\n",
        "    print(f'Estado: {estados[i]}')\n",
        "    print(f'Idade: {idades[i]}')\n",
        "    print(f'Escolaridade: {escolaridades[i]}')\n",
        "    print(f'Cargo: {cargos[i]}')\n",
        "    print(f'Salário: {salarios[i]}')\n",
        "\n",
        "while True:\n",
        "  cadastrar_funcionario()\n",
        "  continuar = input('Deseja cadastrar outro funcionário? (S/N): ')\n",
        "  if continuar.lower() != 'S':\n",
        "    break\n",
        "listar_funcionarios()"
      ],
      "metadata": {
        "colab": {
          "base_uri": "https://localhost:8080/"
        },
        "id": "q4n8bLG9QoMb",
        "outputId": "2efddd80-6022-4d71-e0db-f08a15d0f911"
      },
      "execution_count": 20,
      "outputs": [
        {
          "output_type": "stream",
          "name": "stdout",
          "text": [
            "Informe a matrícula do funcionário: s\n",
            "Informe o nome do funcionário: s\n",
            "Informe a cidade do funcionário: s\n",
            "Informe o estado do funcionário: d\n",
            "Qual a idade do funcionário: 5\n",
            "Informe a escolaridade do funcionário: d\n",
            "Qual o cargo do funcionário:d\n",
            "Informe o salário do funcionário: 3\n",
            "Funcionário s cadastrado com sucesso!\n",
            "Deseja cadastrar outro funcionário? (S/N): S\n",
            "Matrícula: s\n",
            "Nome: s\n",
            "Cidade: s\n",
            "Estado: d\n",
            "Idade: 5\n",
            "Escolaridade: d\n",
            "Cargo: d\n",
            "Salário: 3.0\n"
          ]
        }
      ]
    },
    {
      "cell_type": "code",
      "source": [
        "'''Você foi contratado para desenvolver um sistema básico de gerenciamento de\n",
        "funcionários para uma pequena empresa. O sistema deve ser capaz de receber e\n",
        "armazenar informações sobre os funcionários e realizar operações básicas de\n",
        "manipulação desses dados.'''\n",
        "\n",
        "#variáveis: nome, cidade, estado, idade, escolaridade, cargo, salário\n",
        "'''\n",
        "Sistema básico de gerenciamento de funcionários.\n",
        "'''\n",
        "\n",
        "def adicionar_funcionario():\n",
        "    \"\"\"Adiciona um novo funcionário ao sistema.\"\"\"\n",
        "    nome = input(\"Informe o nome do funcionário: \")\n",
        "    cidade = input(\"Informe a cidade do funcionário: \")\n",
        "    estado = input(\"Informe o estado do funcionário: \")\n",
        "    idade = int(input(\"Informe a idade do funcionário: \"))\n",
        "    escolaridade = input(\"Informe a escolaridade do funcionário: \")\n",
        "    cargo = input(\"Informe o cargo do funcionário: \")\n",
        "    salario = float(input(\"Informe o salário do funcionário: \"))\n",
        "\n",
        "    funcionario = {\n",
        "        \"nome\": nome,\n",
        "        \"cidade\": cidade,\n",
        "        \"estado\": estado,\n",
        "        \"idade\": idade,\n",
        "        \"escolaridade\": escolaridade,\n",
        "        \"cargo\": cargo,\n",
        "        \"salario\": salario\n",
        "    }\n",
        "\n",
        "    funcionarios.append(funcionario)\n",
        "    print(f\"Funcionário {nome} adicionado com sucesso!\")\n",
        "\n",
        "def listar_funcionarios():\n",
        "    \"\"\"Lista todos os funcionários cadastrados.\"\"\"\n",
        "    if funcionarios:\n",
        "        print(\"Lista de Funcionários:\")\n",
        "        for funcionario in funcionarios:\n",
        "            for chave, valor in funcionario.items():\n",
        "                print(f\"{chave}: {valor}\")\n",
        "            print(\"-\" * 20)  # Separador entre funcionários\n",
        "    else:\n",
        "        print(\"Nenhum funcionário cadastrado.\")\n",
        "\n",
        "def remover_funcionario():\n",
        "    \"\"\"Remove um funcionário pelo nome.\"\"\"\n",
        "    nome_remover = input(\"Informe o nome do funcionário a ser removido: \")\n",
        "    for funcionario in funcionarios:\n",
        "        if funcionario[\"nome\"] == nome_remover:\n",
        "            funcionarios.remove(funcionario)\n",
        "            print(f\"Funcionário {nome_remover} removido com sucesso!\")\n",
        "            return\n",
        "    print(f\"Funcionário {nome_remover} não encontrado.\")\n",
        "\n",
        "# Lista para armazenar os funcionários\n",
        "funcionarios = []\n",
        "\n",
        "# Loop principal do sistema\n",
        "while True:\n",
        "    print(\"\\nMenu:\")\n",
        "    print(\"1. Adicionar Funcionário\")\n",
        "    print(\"2. Listar Funcionários\")\n",
        "    print(\"3. Remover Funcionário\")\n",
        "    print(\"4. Sair\")\n",
        "\n",
        "    opcao = input(\"Escolha uma opção: \")\n",
        "\n",
        "    if opcao == \"1\":\n",
        "        adicionar_funcionario()\n",
        "    elif opcao == \"2\":\n",
        "        listar_funcionarios()\n",
        "    elif opcao == \"3\":\n",
        "        remover_funcionario()\n",
        "    elif opcao == \"4\":\n",
        "        break\n",
        "    else:\n",
        "        print(\"Opção inválida. Tente novamente.\")\n",
        "\n",
        "print(\"Sistema encerrado.\")"
      ],
      "metadata": {
        "colab": {
          "base_uri": "https://localhost:8080/",
          "height": 495
        },
        "id": "GV2xZ_TAKyKZ",
        "outputId": "de5b3b82-e254-4953-b85c-bb2012bcdf64"
      },
      "execution_count": 22,
      "outputs": [
        {
          "name": "stdout",
          "output_type": "stream",
          "text": [
            "\n",
            "Menu:\n",
            "1. Adicionar Funcionário\n",
            "2. Listar Funcionários\n",
            "3. Remover Funcionário\n",
            "4. Sair\n",
            "Escolha uma opção: 1\n"
          ]
        },
        {
          "output_type": "error",
          "ename": "KeyboardInterrupt",
          "evalue": "Interrupted by user",
          "traceback": [
            "\u001b[0;31m---------------------------------------------------------------------------\u001b[0m",
            "\u001b[0;31mKeyboardInterrupt\u001b[0m                         Traceback (most recent call last)",
            "\u001b[0;32m<ipython-input-22-52699d93ddb1>\u001b[0m in \u001b[0;36m<cell line: 0>\u001b[0;34m()\u001b[0m\n\u001b[1;32m     67\u001b[0m \u001b[0;34m\u001b[0m\u001b[0m\n\u001b[1;32m     68\u001b[0m     \u001b[0;32mif\u001b[0m \u001b[0mopcao\u001b[0m \u001b[0;34m==\u001b[0m \u001b[0;34m\"1\"\u001b[0m\u001b[0;34m:\u001b[0m\u001b[0;34m\u001b[0m\u001b[0;34m\u001b[0m\u001b[0m\n\u001b[0;32m---> 69\u001b[0;31m         \u001b[0madicionar_funcionario\u001b[0m\u001b[0;34m(\u001b[0m\u001b[0;34m)\u001b[0m\u001b[0;34m\u001b[0m\u001b[0;34m\u001b[0m\u001b[0m\n\u001b[0m\u001b[1;32m     70\u001b[0m     \u001b[0;32melif\u001b[0m \u001b[0mopcao\u001b[0m \u001b[0;34m==\u001b[0m \u001b[0;34m\"2\"\u001b[0m\u001b[0;34m:\u001b[0m\u001b[0;34m\u001b[0m\u001b[0;34m\u001b[0m\u001b[0m\n\u001b[1;32m     71\u001b[0m         \u001b[0mlistar_funcionarios\u001b[0m\u001b[0;34m(\u001b[0m\u001b[0;34m)\u001b[0m\u001b[0;34m\u001b[0m\u001b[0;34m\u001b[0m\u001b[0m\n",
            "\u001b[0;32m<ipython-input-22-52699d93ddb1>\u001b[0m in \u001b[0;36madicionar_funcionario\u001b[0;34m()\u001b[0m\n\u001b[1;32m     11\u001b[0m \u001b[0;32mdef\u001b[0m \u001b[0madicionar_funcionario\u001b[0m\u001b[0;34m(\u001b[0m\u001b[0;34m)\u001b[0m\u001b[0;34m:\u001b[0m\u001b[0;34m\u001b[0m\u001b[0;34m\u001b[0m\u001b[0m\n\u001b[1;32m     12\u001b[0m     \u001b[0;34m\"\"\"Adiciona um novo funcionário ao sistema.\"\"\"\u001b[0m\u001b[0;34m\u001b[0m\u001b[0;34m\u001b[0m\u001b[0m\n\u001b[0;32m---> 13\u001b[0;31m     \u001b[0mnome\u001b[0m \u001b[0;34m=\u001b[0m \u001b[0minput\u001b[0m\u001b[0;34m(\u001b[0m\u001b[0;34m\"Informe o nome do funcionário: \"\u001b[0m\u001b[0;34m)\u001b[0m\u001b[0;34m\u001b[0m\u001b[0;34m\u001b[0m\u001b[0m\n\u001b[0m\u001b[1;32m     14\u001b[0m     \u001b[0mcidade\u001b[0m \u001b[0;34m=\u001b[0m \u001b[0minput\u001b[0m\u001b[0;34m(\u001b[0m\u001b[0;34m\"Informe a cidade do funcionário: \"\u001b[0m\u001b[0;34m)\u001b[0m\u001b[0;34m\u001b[0m\u001b[0;34m\u001b[0m\u001b[0m\n\u001b[1;32m     15\u001b[0m     \u001b[0mestado\u001b[0m \u001b[0;34m=\u001b[0m \u001b[0minput\u001b[0m\u001b[0;34m(\u001b[0m\u001b[0;34m\"Informe o estado do funcionário: \"\u001b[0m\u001b[0;34m)\u001b[0m\u001b[0;34m\u001b[0m\u001b[0;34m\u001b[0m\u001b[0m\n",
            "\u001b[0;32m/usr/local/lib/python3.11/dist-packages/ipykernel/kernelbase.py\u001b[0m in \u001b[0;36mraw_input\u001b[0;34m(self, prompt)\u001b[0m\n\u001b[1;32m   1175\u001b[0m                 \u001b[0;34m\"raw_input was called, but this frontend does not support input requests.\"\u001b[0m\u001b[0;34m\u001b[0m\u001b[0;34m\u001b[0m\u001b[0m\n\u001b[1;32m   1176\u001b[0m             )\n\u001b[0;32m-> 1177\u001b[0;31m         return self._input_request(\n\u001b[0m\u001b[1;32m   1178\u001b[0m             \u001b[0mstr\u001b[0m\u001b[0;34m(\u001b[0m\u001b[0mprompt\u001b[0m\u001b[0;34m)\u001b[0m\u001b[0;34m,\u001b[0m\u001b[0;34m\u001b[0m\u001b[0;34m\u001b[0m\u001b[0m\n\u001b[1;32m   1179\u001b[0m             \u001b[0mself\u001b[0m\u001b[0;34m.\u001b[0m\u001b[0m_parent_ident\u001b[0m\u001b[0;34m[\u001b[0m\u001b[0;34m\"shell\"\u001b[0m\u001b[0;34m]\u001b[0m\u001b[0;34m,\u001b[0m\u001b[0;34m\u001b[0m\u001b[0;34m\u001b[0m\u001b[0m\n",
            "\u001b[0;32m/usr/local/lib/python3.11/dist-packages/ipykernel/kernelbase.py\u001b[0m in \u001b[0;36m_input_request\u001b[0;34m(self, prompt, ident, parent, password)\u001b[0m\n\u001b[1;32m   1217\u001b[0m             \u001b[0;32mexcept\u001b[0m \u001b[0mKeyboardInterrupt\u001b[0m\u001b[0;34m:\u001b[0m\u001b[0;34m\u001b[0m\u001b[0;34m\u001b[0m\u001b[0m\n\u001b[1;32m   1218\u001b[0m                 \u001b[0;31m# re-raise KeyboardInterrupt, to truncate traceback\u001b[0m\u001b[0;34m\u001b[0m\u001b[0;34m\u001b[0m\u001b[0m\n\u001b[0;32m-> 1219\u001b[0;31m                 \u001b[0;32mraise\u001b[0m \u001b[0mKeyboardInterrupt\u001b[0m\u001b[0;34m(\u001b[0m\u001b[0;34m\"Interrupted by user\"\u001b[0m\u001b[0;34m)\u001b[0m \u001b[0;32mfrom\u001b[0m \u001b[0;32mNone\u001b[0m\u001b[0;34m\u001b[0m\u001b[0;34m\u001b[0m\u001b[0m\n\u001b[0m\u001b[1;32m   1220\u001b[0m             \u001b[0;32mexcept\u001b[0m \u001b[0mException\u001b[0m\u001b[0;34m:\u001b[0m\u001b[0;34m\u001b[0m\u001b[0;34m\u001b[0m\u001b[0m\n\u001b[1;32m   1221\u001b[0m                 \u001b[0mself\u001b[0m\u001b[0;34m.\u001b[0m\u001b[0mlog\u001b[0m\u001b[0;34m.\u001b[0m\u001b[0mwarning\u001b[0m\u001b[0;34m(\u001b[0m\u001b[0;34m\"Invalid Message:\"\u001b[0m\u001b[0;34m,\u001b[0m \u001b[0mexc_info\u001b[0m\u001b[0;34m=\u001b[0m\u001b[0;32mTrue\u001b[0m\u001b[0;34m)\u001b[0m\u001b[0;34m\u001b[0m\u001b[0;34m\u001b[0m\u001b[0m\n",
            "\u001b[0;31mKeyboardInterrupt\u001b[0m: Interrupted by user"
          ]
        }
      ]
    },
    {
      "cell_type": "code",
      "execution_count": null,
      "metadata": {
        "id": "_FXUnxoCY03E"
      },
      "outputs": [],
      "source": [
        "'''\n",
        "Crie duas variáveis com dois valores numéricos inteiros digitados pelo usuário,\n",
        "caso o valor do primeiro número for maior que o do segundo, exiba em tela uma\n",
        "mensagem de acordo, caso contrário, exiba em tela uma mensagem dizendo que o\n",
        "primeiro valor digitado é menor que o segundo:\n",
        "'''"
      ]
    },
    {
      "cell_type": "code",
      "source": [
        "'''\n",
        "Peça para que o usuário digite um número inteiro, em seguida exiba em tela uma\n",
        "mensagem dizendo se tal número é PAR ou se é ÍMPAR:\n",
        "'''"
      ],
      "metadata": {
        "id": "fDwBk8xXbZlv"
      },
      "execution_count": null,
      "outputs": []
    },
    {
      "cell_type": "code",
      "source": [
        "'''\n",
        "Crie uma variável com valor inicial 0, enquanto o valor dessa variável for\n",
        "igual ou menos que 10, exiba em tela o próprio valor da variável. A cada\n",
        "execução a mesma deve ter seu valor atualizado, incrementado em 1 unidade.\n",
        "'''"
      ],
      "metadata": {
        "id": "vvnxDzyPiPra"
      },
      "execution_count": null,
      "outputs": []
    },
    {
      "cell_type": "code",
      "source": [
        "'''\n",
        "Crie uma lista com 8 elementos de uma lista de compras de supermercado, por\n",
        "meio de um laço de repetição for liste individualmente cada um dos itens dessa\n",
        "lista.\n",
        "'''"
      ],
      "metadata": {
        "id": "WAa7ns3zjsRO"
      },
      "execution_count": null,
      "outputs": []
    },
    {
      "cell_type": "code",
      "source": [
        "'''\n",
        "Crie um programa que lê um valor de início e um valor de fim informados pelo\n",
        "usuário, exibindo em tela contagem dos números dentro desse intervalo.\n",
        "'''\n"
      ],
      "metadata": {
        "id": "CrAanzZDoOE9"
      },
      "execution_count": null,
      "outputs": []
    },
    {
      "cell_type": "code",
      "source": [
        "'''\n",
        "Crie um programa que exibe em tela a tabuada de um determinado número fornecido\n",
        "pelo usuário:\n",
        "'''"
      ],
      "metadata": {
        "id": "twRxP9lGqifc"
      },
      "execution_count": null,
      "outputs": []
    },
    {
      "cell_type": "code",
      "source": [
        "'''\n",
        "Crie um programa que pede ao usuário que o mesmo digite um número inteiro\n",
        "qualquer, em  seguida retorne se esse número é primo ou não, caso não, retorne\n",
        "também quantas vezes esse número é divisível:\n",
        "'''"
      ],
      "metadata": {
        "id": "30S-znZYtOGs"
      },
      "execution_count": null,
      "outputs": []
    }
  ]
}