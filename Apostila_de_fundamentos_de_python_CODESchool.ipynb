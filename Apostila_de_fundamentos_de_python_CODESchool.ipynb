{
  "nbformat": 4,
  "nbformat_minor": 0,
  "metadata": {
    "colab": {
      "provenance": [],
      "authorship_tag": "ABX9TyMlxCGsnMBq2y+avXKBA7Yc",
      "include_colab_link": true
    },
    "kernelspec": {
      "name": "python3",
      "display_name": "Python 3"
    },
    "language_info": {
      "name": "python"
    }
  },
  "cells": [
    {
      "cell_type": "markdown",
      "metadata": {
        "id": "view-in-github",
        "colab_type": "text"
      },
      "source": [
        "<a href=\"https://colab.research.google.com/github/FFelisbino/Trabalho/blob/main/Apostila_de_fundamentos_de_python_CODESchool.ipynb\" target=\"_parent\"><img src=\"https://colab.research.google.com/assets/colab-badge.svg\" alt=\"Open In Colab\"/></a>"
      ]
    },
    {
      "cell_type": "code",
      "execution_count": null,
      "metadata": {
        "id": "_vVYumZCxb16"
      },
      "outputs": [],
      "source": []
    },
    {
      "cell_type": "markdown",
      "source": [
        "1- Variáveis e tipo de dados\n",
        "1.1 Variáveis de texto\n"
      ],
      "metadata": {
        "id": "mZEzLj2CzHUJ"
      }
    },
    {
      "cell_type": "code",
      "source": [
        "# hashtag na área de código para comentários curtos\n",
        "''' Aspas triplas para comentários de mais de uma linha '''"
      ],
      "metadata": {
        "id": "y3nx-fWxzhQ7"
      },
      "execution_count": null,
      "outputs": []
    },
    {
      "cell_type": "code",
      "source": [
        "# strings\n",
        "cliente = 'Saulo'\n",
        "print(cliente)\n",
        "\n",
        "#verificar qual o tipo de dado foi escolhido automaticamente\n",
        "type(cliente)"
      ],
      "metadata": {
        "colab": {
          "base_uri": "https://localhost:8080/"
        },
        "id": "dOP3o9Lq0Mqe",
        "outputId": "b6ed5d3a-34fd-4963-bd92-fde406462f2b"
      },
      "execution_count": 4,
      "outputs": [
        {
          "output_type": "stream",
          "name": "stdout",
          "text": [
            "Saulo\n"
          ]
        },
        {
          "output_type": "execute_result",
          "data": {
            "text/plain": [
              "str"
            ]
          },
          "metadata": {},
          "execution_count": 4
        }
      ]
    },
    {
      "cell_type": "code",
      "source": [
        "# número inteiros\n",
        "idade = 27\n",
        "print(idade)\n",
        "type(idade)"
      ],
      "metadata": {
        "colab": {
          "base_uri": "https://localhost:8080/"
        },
        "id": "eF50Qrp53wrY",
        "outputId": "f776b983-bb4b-4588-c671-635c89e23c9f"
      },
      "execution_count": 5,
      "outputs": [
        {
          "output_type": "stream",
          "name": "stdout",
          "text": [
            "27\n"
          ]
        },
        {
          "output_type": "execute_result",
          "data": {
            "text/plain": [
              "int"
            ]
          },
          "metadata": {},
          "execution_count": 5
        }
      ]
    },
    {
      "cell_type": "code",
      "source": [
        "# float = números com casas decimais\n",
        "altura = 1.75\n",
        "print(altura)\n",
        "type(altura)"
      ],
      "metadata": {
        "colab": {
          "base_uri": "https://localhost:8080/"
        },
        "id": "_UZsz-Nh4Z1w",
        "outputId": "e3fbe6a0-a22f-4915-b4f4-67b5a895c6bd"
      },
      "execution_count": 6,
      "outputs": [
        {
          "output_type": "stream",
          "name": "stdout",
          "text": [
            "1.75\n"
          ]
        },
        {
          "output_type": "execute_result",
          "data": {
            "text/plain": [
              "float"
            ]
          },
          "metadata": {},
          "execution_count": 6
        }
      ]
    },
    {
      "cell_type": "code",
      "source": [
        "#Mudando o tipo de original de dado\n",
        "'''Suponha que você  tem o n° 1.85 tipado como string mas deseja convertê-lo para float'''\n",
        "n = '1.85'\n",
        "print(type(n))\n",
        "n = float(n)\n",
        "print(type(n))"
      ],
      "metadata": {
        "colab": {
          "base_uri": "https://localhost:8080/"
        },
        "id": "BJP1qgQ86YbY",
        "outputId": "d99ebbe6-77be-4b25-b65e-75e0fbaf8a77"
      },
      "execution_count": 7,
      "outputs": [
        {
          "output_type": "stream",
          "name": "stdout",
          "text": [
            "<class 'str'>\n",
            "<class 'float'>\n"
          ]
        }
      ]
    },
    {
      "cell_type": "code",
      "source": [
        "'''Transformando valor int em inteiro'''\n",
        "print(type(idade))\n",
        "idade = float(idade)\n",
        "print(type(idade))"
      ],
      "metadata": {
        "colab": {
          "base_uri": "https://localhost:8080/"
        },
        "id": "N6NH4LrH73YB",
        "outputId": "92428dbb-88f1-46e5-8405-bc44652ccc11"
      },
      "execution_count": 8,
      "outputs": [
        {
          "output_type": "stream",
          "name": "stdout",
          "text": [
            "<class 'int'>\n",
            "<class 'float'>\n"
          ]
        }
      ]
    },
    {
      "cell_type": "markdown",
      "source": [
        "Operadores matemáticos"
      ],
      "metadata": {
        "id": "MPDd5-xS9Gjr"
      }
    },
    {
      "cell_type": "code",
      "source": [
        "#soma\n",
        "soma = 10 + 10\n",
        "print(soma)"
      ],
      "metadata": {
        "colab": {
          "base_uri": "https://localhost:8080/"
        },
        "id": "sQkhtVvl9Ft0",
        "outputId": "01dcb9bf-5d4e-4ff2-8a9d-6e65ebd8118e"
      },
      "execution_count": 9,
      "outputs": [
        {
          "output_type": "stream",
          "name": "stdout",
          "text": [
            "20\n"
          ]
        }
      ]
    },
    {
      "cell_type": "code",
      "source": [
        "#SUBTRAÇÃO\n",
        "subtracao = 10 - 5\n",
        "print(subtracao)"
      ],
      "metadata": {
        "colab": {
          "base_uri": "https://localhost:8080/"
        },
        "id": "WvPhlnPl9UsT",
        "outputId": "8a25cbd1-f4f3-4b5e-b9f7-035db6cf7c68"
      },
      "execution_count": 10,
      "outputs": [
        {
          "output_type": "stream",
          "name": "stdout",
          "text": [
            "5\n"
          ]
        }
      ]
    }
  ]
}