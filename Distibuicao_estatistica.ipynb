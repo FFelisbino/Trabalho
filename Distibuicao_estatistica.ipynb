{
  "nbformat": 4,
  "nbformat_minor": 0,
  "metadata": {
    "colab": {
      "provenance": [],
      "authorship_tag": "ABX9TyPDbt+SmNCRmOnnur5f7fW3",
      "include_colab_link": true
    },
    "kernelspec": {
      "name": "python3",
      "display_name": "Python 3"
    },
    "language_info": {
      "name": "python"
    }
  },
  "cells": [
    {
      "cell_type": "markdown",
      "metadata": {
        "id": "view-in-github",
        "colab_type": "text"
      },
      "source": [
        "<a href=\"https://colab.research.google.com/github/FFelisbino/Trabalho/blob/main/Distibuicao_estatistica.ipynb\" target=\"_parent\"><img src=\"https://colab.research.google.com/assets/colab-badge.svg\" alt=\"Open In Colab\"/></a>"
      ]
    },
    {
      "cell_type": "code",
      "execution_count": null,
      "metadata": {
        "id": "rsD7DevzXv8k"
      },
      "outputs": [],
      "source": [
        "'''Disitribuição de probabilidade: descreve como os valores de uma variável\n",
        "ao longo de um conjunto de valores possíves\n",
        "Serve para entender se os valores são comuns ou incomuns e a calcular a probabilidade de ocorrer\n",
        "eventos especificos\n",
        "Distribuição Binomial: descreve a probabilidade de obter um determinados número de sucessis em um número\n",
        "fixo de tentativas independentes\n",
        "Ex.: Lançar uma moeda 5 vezes e querer saber a probabilidade de obter exatamente 3 caras. Calcular a\n",
        "probabilidade de sucesso\n",
        "\n",
        "Distribuição de Paisson: verificar eventos que ocorrem em um intervalo de tempo de tempo ou espaço fixo. Descreve\n",
        "a probabilidade de ocorrer um determinados número de eventos por PERÍODO.\n",
        "Ex.: Fresagem de robô; Call Center: medir a probabilidade de um call center receber extamente\n",
        "5 chamandas em uma hora\n",
        "\n",
        "Distribuição Normal/Gaussiana: é uma distribuição contínua simétrica em forma de sino. É utilizada para\n",
        "modelar fenômenosd naturais. Ex.: probabilidade de uma pessoa ter entre 1,70 e 1,80 de altura\n",
        "dentro de uma população; peso, pressão sanguínea, etc\n",
        "'''"
      ]
    },
    {
      "cell_type": "code",
      "source": [
        "from scipy.stats import binom\n",
        "'''Sintaxe: binom.pmf(k , n , p)\n",
        "K: nº de sucessos que você quer calcular> Nº de vezes que o evento desejado ocorre\n",
        "em um determinado n° de tentativas\n",
        "n: n° total de tentativas ou experimentos. Cada tentativa tem dois resultados: sucesso ou falha\n",
        "p: é a probabilidade do sucesso em uma única tentativa. Valor entre 0 e 1,\n",
        "0: sucesso impossivel\n",
        "1: sucesso garantido\n",
        "'''\n",
        "#lançar uma moeda 5 vezes e quere saber a probabilidade de obter exatamente 3 caras.\n",
        "#calcular a probabilidade de sucesso\n",
        "k = 3 #sucesso\n",
        "n = 5 #n° de tentativas\n",
        "p = 0.5 #probabilidade de sucesso\n",
        "\n",
        "#Função de Massa de Probabilidade (PMF)\n",
        "probabilidade = binom.pmf(k, n, p)\n",
        "print(f'A probabilidade de obter extamente {k} cars em {n} lançamentos é d {probabilidade:.4f}')\n",
        "\n",
        "# Qual a probabilidade de acertar obter no máximo 3 caras no contexto?\n",
        "# CDF: Função de Distribuição Cumulativa\n",
        "probabilidade_no_maximo = binom.cdf(k, n, p)\n",
        "print(f'Probabilidade de no máximo {k} sucessos: {probabilidade_no_maximo}')"
      ],
      "metadata": {
        "colab": {
          "base_uri": "https://localhost:8080/"
        },
        "id": "kRVSB_jVYcBB",
        "outputId": "982b1167-8179-45bf-a90b-b07ec484b5ef"
      },
      "execution_count": 3,
      "outputs": [
        {
          "output_type": "stream",
          "name": "stdout",
          "text": [
            "A probabilidade de obter extamente 3 cars em 5 lançamentos é d 0.3125\n",
            "Probabilidade de no máximo 3 sucessos: 0.8125\n"
          ]
        }
      ]
    },
    {
      "cell_type": "code",
      "source": [
        "'''Em uma campanha de vendas, um vendedor realiza 3 visitas a clientes potenciais.\n",
        "A probabilidade de fechar uma venda em cada visita é de 30%. Qual é a probabilidade de\n",
        "não fechar nenhuma venda em todas as 3 visitas?\n",
        "'''\n",
        "k = 0 #sucesso\n",
        "n = 3 #n° de tentativas\n",
        "p = 0.3 #probabilidade de sucesso\n",
        "probabilidade_zero = binom.pmf(k, n, p)\n",
        "print(f'A probabilidade de não fechar nenhuma venda em {n} visitas é d {probabilidade_zero:.4f}')\n"
      ],
      "metadata": {
        "colab": {
          "base_uri": "https://localhost:8080/"
        },
        "id": "cxe1RpsBez-Q",
        "outputId": "f4db6ea8-77a1-40fd-e765-5db293a9d4ad"
      },
      "execution_count": 4,
      "outputs": [
        {
          "output_type": "stream",
          "name": "stdout",
          "text": [
            "A probabilidade de não fechar nenhuma venda em 3 visitas é d 0.3430\n"
          ]
        }
      ]
    },
    {
      "cell_type": "code",
      "source": [
        "def binomial ():\n",
        "  from scipy.stats import binom\n",
        "  p = float(input('Informe a probabilidade de sucesso em forma decimal (p): '))\n",
        "  n = int(input('Informe o número de tentativas (n): '))\n",
        "  k = int(input('Informe o valor necessário (k): '))\n",
        "  probabilidade = binom.pmf(k, n, p)\n",
        "  print(f'A probabilidade de {k} vendas em {n} visitas é de: {probabilidade:.3f} ou {probabilidade*100:.1f}%')"
      ],
      "metadata": {
        "id": "MOyAnaB_hWvR"
      },
      "execution_count": 16,
      "outputs": []
    },
    {
      "cell_type": "code",
      "source": [
        "binomial()"
      ],
      "metadata": {
        "colab": {
          "base_uri": "https://localhost:8080/"
        },
        "id": "9HHqlU9AijOJ",
        "outputId": "e41047aa-ecd4-42cc-b33c-943377b1d8ed"
      },
      "execution_count": 17,
      "outputs": [
        {
          "output_type": "stream",
          "name": "stdout",
          "text": [
            "Informe a probabilidade de sucesso em forma decimal (p): .34\n",
            "Informe o número de tentativas (n): 3\n",
            "Informe o valor necessário (k): 1\n",
            "A probabilidade de 1 vendas em 3 visitas é de: 0.444 ou 44.4%\n"
          ]
        }
      ]
    },
    {
      "cell_type": "code",
      "source": [
        "#num10 = (p**k)(((1-p)**(n-k)))\n",
        "import math\n",
        "pmf = math.comb(n, k) * (p**k) * ((1-p)**(n-k))\n",
        "print(pmf)"
      ],
      "metadata": {
        "colab": {
          "base_uri": "https://localhost:8080/"
        },
        "id": "9XC275DTqN67",
        "outputId": "5938e946-a004-438a-a48d-a9fbbb0bcd75"
      },
      "execution_count": 19,
      "outputs": [
        {
          "output_type": "stream",
          "name": "stdout",
          "text": [
            "0.3429999999999999\n"
          ]
        }
      ]
    },
    {
      "cell_type": "code",
      "source": [
        "#calcule a probabilidade de ao menos 2 vendas\n",
        "# P(k>=2) = P(k=2) + P(k+3)\n",
        "p_maior_igual_2 = 1 - binom.cdf(1, 3, 0.3) #probabilidade de obter no máximo 1 sucesso\n",
        "print(f'{p_maior_igual_2:.3f}')"
      ],
      "metadata": {
        "colab": {
          "base_uri": "https://localhost:8080/"
        },
        "id": "fe1btrDKqp_g",
        "outputId": "53f0008e-8a90-45a9-d5d6-30c6fe6534b7"
      },
      "execution_count": 21,
      "outputs": [
        {
          "output_type": "stream",
          "name": "stdout",
          "text": [
            "0.216\n"
          ]
        }
      ]
    },
    {
      "cell_type": "code",
      "source": [
        "#Calcule a probabilidade de no máxio 2 vendas\n",
        "#P(k <=2) = P(k+ 0) + P(k=1) + P(k=2)\n",
        "p_acumulado_2 = binom.cdf(2, 3, 0.3)\n",
        "print(f'{p_acumulado_2:.3f} ou {p_acumulado_2*100:.1f}%')"
      ],
      "metadata": {
        "colab": {
          "base_uri": "https://localhost:8080/"
        },
        "id": "cJlydKFcs0gl",
        "outputId": "86eee938-44bf-4251-e22d-072c6689a09d"
      },
      "execution_count": 22,
      "outputs": [
        {
          "output_type": "stream",
          "name": "stdout",
          "text": [
            "0.973 ou 97.3%\n"
          ]
        }
      ]
    },
    {
      "cell_type": "code",
      "source": [
        "# Calcule a probabilidade de mais de 2 vendas\n",
        "# P (k >2) = P(k=3) ou 1 - P(k <=2)\n",
        "p_maior_2 = 1 - binom.cdf(2, 3, 0.3)\n",
        "print(f'{p_maior_2:.3f} ou {p_maior_2*100:.1f}%')\n",
        "\n",
        "#Calcule a probabilidade de extamente 3 vendas\n",
        "sucesso = 3\n",
        "tentativa = 3\n",
        "probabiliade_sucesso = 0.3\n",
        "p_exatamente_3 = binom.pmf(k, n, p)\n",
        "p_vendas = binom.pmf(sucesso, tentativa, probabiliade_sucesso)\n",
        "print(f'{p_exatamente_3:.3f} ou {p_exatamente_3*100:.1f}%')"
      ],
      "metadata": {
        "colab": {
          "base_uri": "https://localhost:8080/"
        },
        "id": "5XCJybVQtfFP",
        "outputId": "ac51b790-dae7-40b2-d517-f743dad09fda"
      },
      "execution_count": 23,
      "outputs": [
        {
          "output_type": "stream",
          "name": "stdout",
          "text": [
            "0.027 ou 2.7%\n"
          ]
        }
      ]
    },
    {
      "cell_type": "code",
      "source": [
        "'''Um curso de treinamento aumenta a produtividade dos funcionários de uma certa empresa\n",
        "em 80% dos casos. Se dez funcionários sõa selecionados ao acaso para receber esse treinamento,\n",
        "encontre a probabilidade de: (segundo uma distribuição binomial)\n",
        "n = 10\n",
        "p = 0.8\n",
        "a) exatamente sete funcionários aumentarem a produtividade; P(k = 7)\n",
        "\n",
        "b) Não mais que oito funcionários aumentarem  a produtividade; P(k <= 8)\n",
        "\n",
        "c) pelo menos três funcionários aumentarem a produtividade; P(k >= 3)\n",
        "'''\n",
        "# a) Exatamente sete funcinários aumentarem a produtividade; P(k = 7)\n",
        "n = 10\n",
        "p = 0.8\n",
        "sete_funcionarios_produtivos = binom.pmf(7, n, p)\n",
        "print(f'A probabilidade de exatamente sete funcionários aumentarem a produtividade após o curso é de: {sete_funcionarios_produtivos:.3f} ou {sete_funcionarios_produtivos*100:.1f}%')\n",
        "# b) Não mais que oito funcionários aumentarem  a produtividade; P(k <= 8)\n",
        "oito_funcionarios_produtivos = binom.cdf(8, n, p)\n",
        "print(f'A probabilidade de não mais que oito funcionários aumentarem a produtividade após o curso é de: {oito_funcionarios_produtivos:.3f} ou {oito_funcionarios_produtivos*100:.1f}%')\n",
        "# c) pelo menos três funcionários aumentarem a produtividade. P(k >= 3)\n",
        "pelo_menos_tres_funcionarios_produtivos = 1 - binom.cdf(2, n, p)\n",
        "#distribuição acumulada: probabilidade de que o número de sucessos seja menor ou igual a k\n"
      ],
      "metadata": {
        "id": "jn-GEsQaui4a"
      },
      "execution_count": null,
      "outputs": []
    }
  ]
}